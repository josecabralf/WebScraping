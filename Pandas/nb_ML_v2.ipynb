{
 "cells": [
  {
   "cell_type": "code",
   "execution_count": 6,
   "metadata": {},
   "outputs": [],
   "source": [
    "# INICIAR\n",
    "from main import main\n",
    "from PDconfig import *\n",
    "from frames.archivosDF import *\n",
    "\n",
    "main()\n",
    "df = abrirDF(MeLi)"
   ]
  },
  {
   "cell_type": "code",
   "execution_count": 13,
   "metadata": {},
   "outputs": [],
   "source": [
    "# FILTRADO DE DATOS GENERAL\n",
    "df.drop_duplicates(subset='id', keep='last', inplace=True, ignore_index=False)\n",
    "df.dropna(how=\"all\", subset=['terrenoTotal', 'terrenoEdificado'], inplace=True)\n",
    "\n",
    "df['fechaUltimaActualizacion'] = pd.to_datetime(df['fechaUltimaActualizacion'], format='%d-%m-%Y')\n",
    "df['fechaUltimaActualizacion'] = df['fechaUltimaActualizacion'].dt.strftime('%d-%m-%Y')\n",
    "df.sort_values(by='fechaUltimaActualizacion', ascending=False, inplace=True)\n",
    "df.drop_duplicates(subset=['coordX', 'coordY', 'precioUSD'], inplace=True, ignore_index=True)\n",
    "\n",
    "# ELIMINAR TIPO PROP INSERVIBLES\n",
    "filt = (df[\"tipoPropiedad\"] == \"CASA\") | (df[\"tipoPropiedad\"] == \"DEPARTAMENTO\") | (df[\"tipoPropiedad\"] == \"TERRENO\")\n",
    "df = df.loc[filt]\n",
    "\n",
    "# ELIMINAR DATOS SIN CAMPOS RELEVANTES\n",
    "filtro_T = (df['terrenoEdificado'] == 1)\n",
    "filtro_P = ((df['precioUSD'] == 1))\n",
    "df.drop(df[filtro_T | filtro_P].index, inplace=True)\n",
    "df.drop(df[df['ciudad'] == 'CAPITAL FEDERAL'].index, inplace=True)\n",
    "\n",
    "# ELIMINAR DATOS SIN VALOR VERDADERO\n",
    "import numpy as np\n",
    "filt = df['barrio'].str.contains('INMUEBLES', na=False)\n",
    "df.loc[filt, 'barrio'] = np.nan\n",
    "\n",
    "departamentos = ['CALAMUCHITA', 'COLON', 'CRUZ DEL EJE', \n",
    "                 'GENERAL ROCA', 'GENERAL SAN MARTIN', 'ISCHILIN', 'JUAREZ CELMAN',\n",
    "                 'MARCOS JUAREZ', 'MINAS', 'POCHO', 'PUNILLA', 'RIO CUARTO', 'RIO PRIMERO',\n",
    "                 'RIO SECO', 'RIO SEGUNDO', 'SAN ALBERTO', 'SAN JAVIER', 'SAN JUSTO', \n",
    "                 'SANTA MARIA', 'TERCERO ARRIBA', 'TOTORAL', 'TULUMBA', 'UNION']\n",
    "filt = df['ciudad'].isin(departamentos)\n",
    "df.loc[filt, 'ciudad'] = df.loc[filt, 'barrio']\n",
    "filt = (df['ciudad'] == df['barrio'])\n",
    "df.loc[filt, 'barrio'] = np.nan"
   ]
  },
  {
   "cell_type": "code",
   "execution_count": 14,
   "metadata": {},
   "outputs": [
    {
     "data": {
      "text/plain": [
       "tipoPropiedad\n",
       "CASA            8941\n",
       "DEPARTAMENTO    5377\n",
       "TERRENO         5124\n",
       "Name: count, dtype: int64"
      ]
     },
     "execution_count": 14,
     "metadata": {},
     "output_type": "execute_result"
    }
   ],
   "source": [
    "# SEPARAR y FILTRAR TIPOS PROPIEDADES\n",
    "terrenos = df.loc[df[\"tipoPropiedad\"] == \"TERRENO\"]\n",
    "casas = df.loc[df[\"tipoPropiedad\"] == \"CASA\"]\n",
    "deptos = df.loc[df[\"tipoPropiedad\"] == \"DEPARTAMENTO\"]\n",
    "df['tipoPropiedad'].value_counts()"
   ]
  }
 ],
 "metadata": {
  "kernelspec": {
   "display_name": "Python 3",
   "language": "python",
   "name": "python3"
  },
  "language_info": {
   "codemirror_mode": {
    "name": "ipython",
    "version": 3
   },
   "file_extension": ".py",
   "mimetype": "text/x-python",
   "name": "python",
   "nbconvert_exporter": "python",
   "pygments_lexer": "ipython3",
   "version": "3.10.4"
  },
  "orig_nbformat": 4
 },
 "nbformat": 4,
 "nbformat_minor": 2
}
