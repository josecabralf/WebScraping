{
 "cells": [
  {
   "cell_type": "code",
   "execution_count": null,
   "metadata": {},
   "outputs": [],
   "source": [
    "# INICIAR\n",
    "from main import main\n",
    "from PDconfig import *\n",
    "from frames.archivosDF import *\n",
    "import pandas as pd\n",
    "\n",
    "main()\n",
    "ZP = abrirDF(ZonaP)\n",
    "ML = abrirDF(MeLi)\n",
    "LV = abrirDF(LaVoz)"
   ]
  }
 ],
 "metadata": {
  "language_info": {
   "name": "python"
  },
  "orig_nbformat": 4
 },
 "nbformat": 4,
 "nbformat_minor": 2
}
