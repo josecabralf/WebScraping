{
 "cells": [
  {
   "cell_type": "code",
   "execution_count": 45,
   "metadata": {},
   "outputs": [],
   "source": [
    "from main import main\n",
    "\n",
    "main()"
   ]
  },
  {
   "cell_type": "code",
   "execution_count": 98,
   "metadata": {},
   "outputs": [],
   "source": [
    "from PDconfig import df_ML as MeLi, df_LV as LaVoz\n",
    "from archivosDF import *\n",
    "\n",
    "df_ML = abrirDF(MeLi, 'id')\n",
    "df_LV = abrirDF(LaVoz, 'id')"
   ]
  },
  {
   "cell_type": "code",
   "execution_count": 119,
   "metadata": {},
   "outputs": [],
   "source": [
    "tiposLV = df_LV[\"tipoPropiedad\"].value_counts()\n",
    "tiposML = df_ML[\"tipoPropiedad\"].value_counts()"
   ]
  },
  {
   "cell_type": "code",
   "execution_count": 99,
   "metadata": {},
   "outputs": [
    {
     "data": {
      "text/plain": [
       "tipoPropiedad\n",
       "CASA                  11995\n",
       "DEPARTAMENTO          10731\n",
       "TERRENOS LOTES         5636\n",
       "DUPLEX                 1283\n",
       "LOCAL                   805\n",
       "COCHERAS                543\n",
       "OFICINAS                534\n",
       "GALPONES DEPOSITOS      403\n",
       "CAMPOS                  208\n",
       "CASAS                   179\n",
       "DEPARTAMENTOS           176\n",
       "DÚPLEX                  138\n",
       "CABAÑA                   62\n",
       "FONDO COMERCIO           61\n",
       "SEMIPISO                 54\n",
       "PISO                     40\n",
       "TRIPLEX                  34\n",
       "CHALET                   29\n",
       "PENTHOUSE                12\n",
       "LOFT                      8\n",
       "PREFABRICADA              5\n",
       "Name: count, dtype: int64"
      ]
     },
     "execution_count": 99,
     "metadata": {},
     "output_type": "execute_result"
    }
   ],
   "source": [
    "tiposLV"
   ]
  },
  {
   "cell_type": "code",
   "execution_count": 78,
   "metadata": {},
   "outputs": [
    {
     "name": "stdout",
     "output_type": "stream",
     "text": [
      "108\n",
      "77\n"
     ]
    }
   ],
   "source": [
    "f_dptos_ML = (df_ML[\"tipoPropiedad\"] == \"DEPARTAMENTO\")\n",
    "dptos_ML = df_ML.loc[f_dptos_ML]\n",
    "dptos_ML.sort_values(\"terrenoEdificado\", ascending=False)\n",
    "mal_cargado = (dptos_ML[\"terrenoEdificado\"] > 300)\n",
    "print(dptos_ML.loc[mal_cargado, \"tipoPropiedad\"].count())\n",
    "\n",
    "f_dptos_LV = (df_LV[\"tipoPropiedad\"] == \"DEPARTAMENTO\") & (df_LV[\"terrenoTotal\"] != None)\n",
    "dptos_LV = df_LV.loc[f_dptos_LV]\n",
    "dptos_LV.sort_values(\"terrenoTotal\", ascending=False)\n",
    "mal_cargado = (dptos_LV[\"terrenoTotal\"] > 300)\n",
    "print(dptos_LV.loc[mal_cargado, \"tipoPropiedad\"].count())"
   ]
  },
  {
   "cell_type": "code",
   "execution_count": 105,
   "metadata": {},
   "outputs": [
    {
     "data": {
      "text/plain": [
       "tipoPropiedad\n",
       "CASA                  13312\n",
       "DEPARTAMENTO          10731\n",
       "TERRENOS LOTES         5636\n",
       "LOCAL                   805\n",
       "COCHERAS                543\n",
       "OFICINAS                534\n",
       "GALPONES DEPOSITOS      403\n",
       "CAMPOS                  208\n",
       "CASAS                   179\n",
       "DEPARTAMENTOS           176\n",
       "DÚPLEX                  138\n",
       "CABAÑA                   62\n",
       "FONDO COMERCIO           61\n",
       "SEMIPISO                 54\n",
       "PISO                     40\n",
       "CHALET                   29\n",
       "PENTHOUSE                12\n",
       "LOFT                      8\n",
       "PREFABRICADA              5\n",
       "Name: count, dtype: int64"
      ]
     },
     "execution_count": 105,
     "metadata": {},
     "output_type": "execute_result"
    }
   ],
   "source": [
    "df_LV[\"tipoPropiedad\"]=df_LV[\"tipoPropiedad\"].replace({\"DUPLEX\" : \"CASA\", \"TRIPLEX\" : \"CASA\"})\n",
    "tiposLV = df_LV[\"tipoPropiedad\"].value_counts()\n",
    "tiposLV"
   ]
  },
  {
   "cell_type": "code",
   "execution_count": 126,
   "metadata": {},
   "outputs": [],
   "source": [
    "filt = df_ML[\"barrio\"].str.contains(\"INMUEBLES\")\n",
    "df_ML.loc[filt, \"barrio\"] = \"\""
   ]
  },
  {
   "cell_type": "code",
   "execution_count": 127,
   "metadata": {},
   "outputs": [
    {
     "data": {
      "text/html": [
       "<div>\n",
       "<style scoped>\n",
       "    .dataframe tbody tr th:only-of-type {\n",
       "        vertical-align: middle;\n",
       "    }\n",
       "\n",
       "    .dataframe tbody tr th {\n",
       "        vertical-align: top;\n",
       "    }\n",
       "\n",
       "    .dataframe thead th {\n",
       "        text-align: right;\n",
       "    }\n",
       "</style>\n",
       "<table border=\"1\" class=\"dataframe\">\n",
       "  <thead>\n",
       "    <tr style=\"text-align: right;\">\n",
       "      <th></th>\n",
       "      <th>precioUSD</th>\n",
       "      <th>terrenoTotal</th>\n",
       "      <th>terrenoEdificado</th>\n",
       "      <th>cantDormitorios</th>\n",
       "      <th>cantBanos</th>\n",
       "      <th>cantCochera</th>\n",
       "    </tr>\n",
       "  </thead>\n",
       "  <tbody>\n",
       "    <tr>\n",
       "      <th>count</th>\n",
       "      <td>3.368100e+04</td>\n",
       "      <td>3.300600e+04</td>\n",
       "      <td>2.389400e+04</td>\n",
       "      <td>23924.000000</td>\n",
       "      <td>23860.000000</td>\n",
       "      <td>14419.000000</td>\n",
       "    </tr>\n",
       "    <tr>\n",
       "      <th>mean</th>\n",
       "      <td>1.416676e+05</td>\n",
       "      <td>2.403056e+04</td>\n",
       "      <td>2.349029e+02</td>\n",
       "      <td>2.615240</td>\n",
       "      <td>1.952473</td>\n",
       "      <td>1.715029</td>\n",
       "    </tr>\n",
       "    <tr>\n",
       "      <th>std</th>\n",
       "      <td>8.565694e+05</td>\n",
       "      <td>2.387341e+06</td>\n",
       "      <td>7.588987e+03</td>\n",
       "      <td>15.159707</td>\n",
       "      <td>2.211179</td>\n",
       "      <td>3.361533</td>\n",
       "    </tr>\n",
       "    <tr>\n",
       "      <th>min</th>\n",
       "      <td>9.000000e+00</td>\n",
       "      <td>0.000000e+00</td>\n",
       "      <td>0.000000e+00</td>\n",
       "      <td>1.000000</td>\n",
       "      <td>1.000000</td>\n",
       "      <td>0.000000</td>\n",
       "    </tr>\n",
       "    <tr>\n",
       "      <th>25%</th>\n",
       "      <td>4.500000e+04</td>\n",
       "      <td>1.230000e+02</td>\n",
       "      <td>6.500000e+01</td>\n",
       "      <td>2.000000</td>\n",
       "      <td>1.000000</td>\n",
       "      <td>1.000000</td>\n",
       "    </tr>\n",
       "    <tr>\n",
       "      <th>50%</th>\n",
       "      <td>8.500000e+04</td>\n",
       "      <td>3.600000e+02</td>\n",
       "      <td>1.200000e+02</td>\n",
       "      <td>2.000000</td>\n",
       "      <td>2.000000</td>\n",
       "      <td>1.000000</td>\n",
       "    </tr>\n",
       "    <tr>\n",
       "      <th>75%</th>\n",
       "      <td>1.590000e+05</td>\n",
       "      <td>9.000000e+02</td>\n",
       "      <td>2.000000e+02</td>\n",
       "      <td>3.000000</td>\n",
       "      <td>2.000000</td>\n",
       "      <td>2.000000</td>\n",
       "    </tr>\n",
       "    <tr>\n",
       "      <th>max</th>\n",
       "      <td>1.111111e+08</td>\n",
       "      <td>4.000000e+08</td>\n",
       "      <td>1.111111e+06</td>\n",
       "      <td>2318.000000</td>\n",
       "      <td>123.000000</td>\n",
       "      <td>132.000000</td>\n",
       "    </tr>\n",
       "  </tbody>\n",
       "</table>\n",
       "</div>"
      ],
      "text/plain": [
       "          precioUSD  terrenoTotal  terrenoEdificado  cantDormitorios  \\\n",
       "count  3.368100e+04  3.300600e+04      2.389400e+04     23924.000000   \n",
       "mean   1.416676e+05  2.403056e+04      2.349029e+02         2.615240   \n",
       "std    8.565694e+05  2.387341e+06      7.588987e+03        15.159707   \n",
       "min    9.000000e+00  0.000000e+00      0.000000e+00         1.000000   \n",
       "25%    4.500000e+04  1.230000e+02      6.500000e+01         2.000000   \n",
       "50%    8.500000e+04  3.600000e+02      1.200000e+02         2.000000   \n",
       "75%    1.590000e+05  9.000000e+02      2.000000e+02         3.000000   \n",
       "max    1.111111e+08  4.000000e+08      1.111111e+06      2318.000000   \n",
       "\n",
       "          cantBanos   cantCochera  \n",
       "count  23860.000000  14419.000000  \n",
       "mean       1.952473      1.715029  \n",
       "std        2.211179      3.361533  \n",
       "min        1.000000      0.000000  \n",
       "25%        1.000000      1.000000  \n",
       "50%        2.000000      1.000000  \n",
       "75%        2.000000      2.000000  \n",
       "max      123.000000    132.000000  "
      ]
     },
     "execution_count": 127,
     "metadata": {},
     "output_type": "execute_result"
    }
   ],
   "source": [
    "df_ML.describe()"
   ]
  },
  {
   "cell_type": "code",
   "execution_count": 131,
   "metadata": {},
   "outputs": [],
   "source": [
    "gb_tipo_ML = df_ML.groupby([\"tipoPropiedad\"])\n",
    "gb_tipo_LV = df_LV.groupby([\"tipoPropiedad\"])"
   ]
  },
  {
   "cell_type": "code",
   "execution_count": 140,
   "metadata": {},
   "outputs": [
    {
     "name": "stdout",
     "output_type": "stream",
     "text": [
      "                  median          mean\n",
      "tipoPropiedad                         \n",
      "CASA            132500.0  1.830777e+05\n",
      "DEPARTAMENTO     75000.0  1.257413e+05\n",
      "LOCAL          2000000.0  2.000000e+06\n",
      "OTRO            205000.0  2.050000e+05\n",
      "TERRENO          37000.0  9.265688e+04\n",
      "                      median          mean\n",
      "tipoPropiedad                             \n",
      "CABAÑA              125000.0  2.153063e+05\n",
      "CAMPOS              235000.0  4.531200e+05\n",
      "CASA                135000.0  1.878890e+05\n",
      "CASAS               109000.0  1.340541e+05\n",
      "CHALET              150000.0  1.986552e+05\n",
      "COCHERAS             12000.0  4.258555e+04\n",
      "DEPARTAMENTO         67000.0  9.130930e+04\n",
      "DEPARTAMENTOS        60000.0  7.977557e+04\n",
      "DÚPLEX               95500.0  1.060214e+05\n",
      "FONDO COMERCIO       40000.0  2.317065e+05\n",
      "GALPONES DEPOSITOS  150000.0  2.941277e+05\n",
      "LOCAL                95000.0  1.259035e+07\n",
      "LOFT                 85000.0  1.080974e+05\n",
      "OFICINAS             65000.0  1.180619e+05\n",
      "PENTHOUSE           400000.0  4.004167e+05\n",
      "PISO                190000.0  2.511225e+05\n",
      "PREFABRICADA         30000.0  3.150000e+04\n",
      "SEMIPISO            137500.0  1.862554e+05\n",
      "TERRENOS LOTES       42850.0  1.291532e+05\n"
     ]
    }
   ],
   "source": [
    "print(gb_tipo_ML[\"precioUSD\"].agg(['median', 'mean']))\n",
    "print(gb_tipo_LV[\"precioUSD\"].agg(['median', 'mean']))"
   ]
  },
  {
   "cell_type": "code",
   "execution_count": 144,
   "metadata": {},
   "outputs": [],
   "source": [
    "columnas = ['terrenoTotal', 'terrenoEdificado', 'cantDormitorios', 'cantBanos', 'cantCochera']\n",
    "df_LV = df_LV.dropna(axis='index', how='all', subset=columnas)\n",
    "df_ML = df_ML.dropna(axis='index', how='all', subset=columnas)"
   ]
  },
  {
   "cell_type": "code",
   "execution_count": 187,
   "metadata": {},
   "outputs": [
    {
     "name": "stdout",
     "output_type": "stream",
     "text": [
      "id\n",
      "4804862    2\n",
      "3493206    2\n",
      "5007951    2\n",
      "4644004    2\n",
      "5085036    2\n",
      "          ..\n",
      "4570715    2\n",
      "4921247    2\n",
      "4796574    2\n",
      "3324938    2\n",
      "4818400    2\n",
      "Name: count, Length: 61, dtype: int64\n",
      "id\n",
      "1377272193    2\n",
      "1443537584    2\n",
      "1143674446    2\n",
      "1443507464    2\n",
      "1123623023    2\n",
      "             ..\n",
      "1375126673    2\n",
      "1374139174    2\n",
      "1116956322    2\n",
      "1137529602    2\n",
      "1342800523    2\n",
      "Name: count, Length: 685, dtype: int64\n"
     ]
    }
   ],
   "source": [
    "#CANTIDAD DE REGISTROS DUPLICADOS\n",
    "print(df_LV.value_counts(\"id\").head(61))\n",
    "print(df_ML.value_counts(\"id\").head(685))"
   ]
  }
 ],
 "metadata": {
  "kernelspec": {
   "display_name": "Python 3",
   "language": "python",
   "name": "python3"
  },
  "language_info": {
   "codemirror_mode": {
    "name": "ipython",
    "version": 3
   },
   "file_extension": ".py",
   "mimetype": "text/x-python",
   "name": "python",
   "nbconvert_exporter": "python",
   "pygments_lexer": "ipython3",
   "version": "3.11.4"
  },
  "orig_nbformat": 4
 },
 "nbformat": 4,
 "nbformat_minor": 2
}
