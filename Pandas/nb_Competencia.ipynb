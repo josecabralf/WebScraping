{
 "cells": [
  {
   "cell_type": "code",
   "execution_count": 1,
   "metadata": {},
   "outputs": [],
   "source": [
    "from main import main\n",
    "from PDconfig import LaVoz, MeLi, ZonaP\n",
    "from frames.archivosDF import *\n",
    "\n",
    "main()\n",
    "df1 = abrirDF(LaVoz)\n",
    "df2 = abrirDF(MeLi)\n",
    "df3 = abrirDF(ZonaP)"
   ]
  },
  {
   "cell_type": "code",
   "execution_count": 11,
   "metadata": {},
   "outputs": [],
   "source": [
    "filt1 = df1['barrio'].str.contains('MANANTIALES', na= False)\n",
    "filt2 = df2['barrio'].str.contains('MANANTIALES', na= False)\n",
    "filt3 = df3['barrio'].str.contains('MANANTIALES', na= False)\n",
    "\n",
    "df1_m = df1.loc[filt1]\n",
    "df2_m = df2.loc[filt2]\n",
    "df3_m = df3.loc[filt3]"
   ]
  },
  {
   "cell_type": "code",
   "execution_count": 17,
   "metadata": {},
   "outputs": [],
   "source": [
    "filt1 = df1['barrio'].str.contains('DOCTA', na= False)\n",
    "filt2 = df2['barrio'].str.contains('DOCTA', na= False)\n",
    "filt3 = df3['barrio'].str.contains('DOCTA', na= False)\n",
    "\n",
    "df1_d = df1.loc[filt1]\n",
    "df2_d = df2.loc[filt2]\n",
    "df3_d = df3.loc[filt3]"
   ]
  }
 ],
 "metadata": {
  "kernelspec": {
   "display_name": "Python 3",
   "language": "python",
   "name": "python3"
  },
  "language_info": {
   "codemirror_mode": {
    "name": "ipython",
    "version": 3
   },
   "file_extension": ".py",
   "mimetype": "text/x-python",
   "name": "python",
   "nbconvert_exporter": "python",
   "pygments_lexer": "ipython3",
   "version": "3.11.4"
  },
  "orig_nbformat": 4
 },
 "nbformat": 4,
 "nbformat_minor": 2
}
